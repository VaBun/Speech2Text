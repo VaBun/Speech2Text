{
 "cells": [
  {
   "cell_type": "markdown",
   "metadata": {},
   "source": [
    "# AutoML на текстовых данных"
   ]
  },
  {
   "cell_type": "markdown",
   "metadata": {},
   "source": [
    "![NLP](./imgs/tutorial_NLP_image_1.jpg)\n"
   ]
  },
  {
   "cell_type": "markdown",
   "metadata": {},
   "source": [
    "Чуть больше про стратегии получения представлений текстов на основе представлений слов:\n",
    "\n",
    "![NLP2](./imgs/tutorial_NLP_image_2.jpg)\n",
    "\n",
    "Про методы случайных алгоритмов можно подробнее прочитать в [статье](https://arxiv.org/abs/1901.10444) \"No Training Required: Exploring Random Encoders for Sentence Classification\".\n"
   ]
  },
  {
   "cell_type": "markdown",
   "metadata": {},
   "source": [
    "# Импорты"
   ]
  },
  {
   "cell_type": "code",
   "execution_count": 1,
   "metadata": {},
   "outputs": [],
   "source": [
    "import pandas as pd\n",
    "import numpy as np\n",
    "import pickle\n",
    "\n",
    "from sklearn.metrics import roc_auc_score, f1_score\n",
    "from sklearn.model_selection import train_test_split\n",
    "\n",
    "from lightautoml.automl.presets.text_presets import TabularNLPAutoML\n",
    "from lightautoml.tasks import Task\n",
    "from lightautoml.addons.interpretation import LimeTextExplainer\n",
    "from lightautoml.report import ReportDecoNLP\n",
    "\n",
    "# Выключим предупреждения от HuggingFace\n",
    "import transformers\n",
    "transformers.logging.set_verbosity(50)"
   ]
  },
  {
   "cell_type": "markdown",
   "metadata": {},
   "source": [
    "# Чтение данных"
   ]
  },
  {
   "cell_type": "code",
   "execution_count": 5,
   "metadata": {},
   "outputs": [
    {
     "name": "stdout",
     "output_type": "stream",
     "text": [
      "CPU times: user 230 ms, sys: 9.2 ms, total: 239 ms\n",
      "Wall time: 256 ms\n"
     ]
    }
   ],
   "source": [
    "%%time\n",
    "train = pd.read_csv(\"example_data/nlp_data.csv\")"
   ]
  },
  {
   "cell_type": "code",
   "execution_count": 6,
   "metadata": {},
   "outputs": [
    {
     "name": "stdout",
     "output_type": "stream",
     "text": [
      "(13842, 6)\n"
     ]
    },
    {
     "data": {
      "text/html": [
       "<div>\n",
       "<style scoped>\n",
       "    .dataframe tbody tr th:only-of-type {\n",
       "        vertical-align: middle;\n",
       "    }\n",
       "\n",
       "    .dataframe tbody tr th {\n",
       "        vertical-align: top;\n",
       "    }\n",
       "\n",
       "    .dataframe thead th {\n",
       "        text-align: right;\n",
       "    }\n",
       "</style>\n",
       "<table border=\"1\" class=\"dataframe\">\n",
       "  <thead>\n",
       "    <tr style=\"text-align: right;\">\n",
       "      <th></th>\n",
       "      <th>BankName</th>\n",
       "      <th>Message</th>\n",
       "      <th>ViewsNum</th>\n",
       "      <th>IsGood</th>\n",
       "      <th>MessageRecognized</th>\n",
       "      <th>WER</th>\n",
       "    </tr>\n",
       "  </thead>\n",
       "  <tbody>\n",
       "    <tr>\n",
       "      <th>11474</th>\n",
       "      <td>Альфа-Банк</td>\n",
       "      <td>Я клиент банка с 2007 года, зарплатный клиент ...</td>\n",
       "      <td>1422</td>\n",
       "      <td>False</td>\n",
       "      <td>Я клиент банка с две тысячи седьмого года зарп...</td>\n",
       "      <td>60.000000</td>\n",
       "    </tr>\n",
       "    <tr>\n",
       "      <th>3955</th>\n",
       "      <td>Альфа-Банк</td>\n",
       "      <td>07.04 в 20-15 по Ульяновскому времени я зашла ...</td>\n",
       "      <td>2016</td>\n",
       "      <td>False</td>\n",
       "      <td>Седьмого апреля в двадцать пятнадцать По Ульян...</td>\n",
       "      <td>31.818182</td>\n",
       "    </tr>\n",
       "    <tr>\n",
       "      <th>3081</th>\n",
       "      <td>Банк Открытие</td>\n",
       "      <td>Ужасный сервис. Заказал кредитную карту по акц...</td>\n",
       "      <td>2232</td>\n",
       "      <td>False</td>\n",
       "      <td>Ужасной Сервис заказал кредитную карту по акци...</td>\n",
       "      <td>68.750000</td>\n",
       "    </tr>\n",
       "    <tr>\n",
       "      <th>12107</th>\n",
       "      <td>Почта Банк</td>\n",
       "      <td>Добрый вечер.  21.01.2020, я обратилась в отде...</td>\n",
       "      <td>1139</td>\n",
       "      <td>False</td>\n",
       "      <td>Добрый вечер двадцать первого января две тысяч...</td>\n",
       "      <td>55.555556</td>\n",
       "    </tr>\n",
       "    <tr>\n",
       "      <th>10494</th>\n",
       "      <td>Русский Стандарт</td>\n",
       "      <td>Банк второй месяц подряд еженедельно названива...</td>\n",
       "      <td>1609</td>\n",
       "      <td>False</td>\n",
       "      <td>Второй месяц подряд еженедельно и предлагает к...</td>\n",
       "      <td>39.393939</td>\n",
       "    </tr>\n",
       "  </tbody>\n",
       "</table>\n",
       "</div>"
      ],
      "text/plain": [
       "               BankName                                            Message  \\\n",
       "11474        Альфа-Банк  Я клиент банка с 2007 года, зарплатный клиент ...   \n",
       "3955         Альфа-Банк  07.04 в 20-15 по Ульяновскому времени я зашла ...   \n",
       "3081      Банк Открытие  Ужасный сервис. Заказал кредитную карту по акц...   \n",
       "12107        Почта Банк  Добрый вечер.  21.01.2020, я обратилась в отде...   \n",
       "10494  Русский Стандарт  Банк второй месяц подряд еженедельно названива...   \n",
       "\n",
       "       ViewsNum  IsGood                                  MessageRecognized  \\\n",
       "11474      1422   False  Я клиент банка с две тысячи седьмого года зарп...   \n",
       "3955       2016   False  Седьмого апреля в двадцать пятнадцать По Ульян...   \n",
       "3081       2232   False  Ужасной Сервис заказал кредитную карту по акци...   \n",
       "12107      1139   False  Добрый вечер двадцать первого января две тысяч...   \n",
       "10494      1609   False  Второй месяц подряд еженедельно и предлагает к...   \n",
       "\n",
       "             WER  \n",
       "11474  60.000000  \n",
       "3955   31.818182  \n",
       "3081   68.750000  \n",
       "12107  55.555556  \n",
       "10494  39.393939  "
      ]
     },
     "execution_count": 6,
     "metadata": {},
     "output_type": "execute_result"
    }
   ],
   "source": [
    "print(train.shape)\n",
    "train.sample(5, random_state=0)"
   ]
  },
  {
   "cell_type": "code",
   "execution_count": 8,
   "metadata": {},
   "outputs": [
    {
     "data": {
      "text/plain": [
       "45.355170973294456"
      ]
     },
     "execution_count": 8,
     "metadata": {},
     "output_type": "execute_result"
    }
   ],
   "source": [
    "train.WER.mean()"
   ]
  },
  {
   "cell_type": "code",
   "execution_count": 10,
   "metadata": {},
   "outputs": [],
   "source": [
    "train, test = train_test_split(train, test_size=3_000, random_state=42, stratify=train.IsGood)"
   ]
  },
  {
   "cell_type": "markdown",
   "metadata": {},
   "source": [
    "## На чистой речи"
   ]
  },
  {
   "cell_type": "code",
   "execution_count": 13,
   "metadata": {
    "scrolled": true
   },
   "outputs": [
    {
     "name": "stdout",
     "output_type": "stream",
     "text": [
      "[18:43:20] Stdout logging level is INFO3.\n",
      "[18:43:20] Model language mode: ru\n",
      "[18:43:20] Task: binary\n",
      "\n",
      "[18:43:20] Start automl preset with listed constraints:\n",
      "[18:43:20] - time: 3600.00 seconds\n",
      "[18:43:20] - CPU: 4 cores\n",
      "[18:43:20] - memory: 16 GB\n",
      "\n",
      "[18:43:20] Train data shape: (10842, 6)\n",
      "\n",
      "[18:43:20] Feats was rejected during automatic roles guess: []\n",
      "[18:43:20] Layer 1 train process start. Time left 3599.94 secs\n",
      "[18:43:20] Start fitting Lvl_0_Pipe_0_Mod_0_TorchNN ...\n",
      "[18:43:20] ===== Start working with fold 0 for Lvl_0_Pipe_0_Mod_0_TorchNN =====\n"
     ]
    },
    {
     "name": "stderr",
     "output_type": "stream",
     "text": [
      "train (loss=0.495986): 100%|██████████| 452/452 [00:16<00:00, 27.54it/s]\n",
      "val: 100%|██████████| 226/226 [00:04<00:00, 55.67it/s]\n"
     ]
    },
    {
     "name": "stdout",
     "output_type": "stream",
     "text": [
      "[18:43:49] Epoch: 0, train loss: 0.4959859848022461, val loss: 0.47765660285949707, val metric: 0.7716027986391938\n"
     ]
    },
    {
     "name": "stderr",
     "output_type": "stream",
     "text": [
      "train (loss=0.448302): 100%|██████████| 452/452 [00:16<00:00, 27.64it/s]\n",
      "val: 100%|██████████| 226/226 [00:03<00:00, 57.80it/s]\n"
     ]
    },
    {
     "name": "stdout",
     "output_type": "stream",
     "text": [
      "[18:44:09] Epoch: 1, train loss: 0.44830235838890076, val loss: 0.43643373250961304, val metric: 0.8280139694222755\n"
     ]
    },
    {
     "name": "stderr",
     "output_type": "stream",
     "text": [
      "train (loss=0.401231): 100%|██████████| 452/452 [00:16<00:00, 28.03it/s]\n",
      "val: 100%|██████████| 226/226 [00:03<00:00, 59.04it/s]\n"
     ]
    },
    {
     "name": "stdout",
     "output_type": "stream",
     "text": [
      "[18:44:29] Epoch: 2, train loss: 0.40123093128204346, val loss: 0.3921157717704773, val metric: 0.8434571229551652\n"
     ]
    },
    {
     "name": "stderr",
     "output_type": "stream",
     "text": [
      "train (loss=0.36628): 100%|██████████| 452/452 [00:16<00:00, 27.46it/s] \n",
      "val: 100%|██████████| 226/226 [00:03<00:00, 58.34it/s]\n"
     ]
    },
    {
     "name": "stdout",
     "output_type": "stream",
     "text": [
      "[18:44:50] Epoch: 3, train loss: 0.366279661655426, val loss: 0.37461480498313904, val metric: 0.8514198838417337\n"
     ]
    },
    {
     "name": "stderr",
     "output_type": "stream",
     "text": [
      "train (loss=0.334161): 100%|██████████| 452/452 [00:16<00:00, 27.16it/s]\n",
      "val: 100%|██████████| 226/226 [00:03<00:00, 57.19it/s]\n"
     ]
    },
    {
     "name": "stdout",
     "output_type": "stream",
     "text": [
      "[18:45:10] Epoch: 4, train loss: 0.3341613709926605, val loss: 0.39092859625816345, val metric: 0.8475996890400896\n"
     ]
    },
    {
     "name": "stderr",
     "output_type": "stream",
     "text": [
      "val: 100%|██████████| 226/226 [00:04<00:00, 56.31it/s]\n"
     ]
    },
    {
     "name": "stdout",
     "output_type": "stream",
     "text": [
      "[18:45:14] Early stopping: val loss: 0.37461480498313904, val metric: 0.8514198838417337\n",
      "[18:45:16] ===== Start working with fold 1 for Lvl_0_Pipe_0_Mod_0_TorchNN =====\n"
     ]
    },
    {
     "name": "stderr",
     "output_type": "stream",
     "text": [
      "train (loss=0.495787): 100%|██████████| 452/452 [00:16<00:00, 27.51it/s]\n",
      "val: 100%|██████████| 226/226 [00:04<00:00, 54.62it/s]\n"
     ]
    },
    {
     "name": "stdout",
     "output_type": "stream",
     "text": [
      "[18:45:43] Epoch: 0, train loss: 0.49578729271888733, val loss: 0.47648003697395325, val metric: 0.7816871239298866\n"
     ]
    },
    {
     "name": "stderr",
     "output_type": "stream",
     "text": [
      "train (loss=0.448592): 100%|██████████| 452/452 [00:16<00:00, 27.65it/s]\n",
      "val: 100%|██████████| 226/226 [00:04<00:00, 54.11it/s]\n"
     ]
    },
    {
     "name": "stdout",
     "output_type": "stream",
     "text": [
      "[18:46:04] Epoch: 1, train loss: 0.4485919177532196, val loss: 0.4249003529548645, val metric: 0.825317557110355\n"
     ]
    },
    {
     "name": "stderr",
     "output_type": "stream",
     "text": [
      "train (loss=0.397188): 100%|██████████| 452/452 [00:16<00:00, 27.54it/s]\n",
      "val: 100%|██████████| 226/226 [00:04<00:00, 53.34it/s]\n"
     ]
    },
    {
     "name": "stdout",
     "output_type": "stream",
     "text": [
      "[18:46:24] Epoch: 2, train loss: 0.3971877098083496, val loss: 0.39359554648399353, val metric: 0.8382209669712077\n"
     ]
    },
    {
     "name": "stderr",
     "output_type": "stream",
     "text": [
      "train (loss=0.357563): 100%|██████████| 452/452 [00:16<00:00, 27.37it/s]\n",
      "val: 100%|██████████| 226/226 [00:04<00:00, 55.60it/s]\n"
     ]
    },
    {
     "name": "stdout",
     "output_type": "stream",
     "text": [
      "[18:46:45] Epoch: 3, train loss: 0.3575633764266968, val loss: 0.3777868151664734, val metric: 0.8443655157821665\n"
     ]
    },
    {
     "name": "stderr",
     "output_type": "stream",
     "text": [
      "train (loss=0.329593): 100%|██████████| 452/452 [00:16<00:00, 27.19it/s]\n",
      "val: 100%|██████████| 226/226 [00:04<00:00, 54.58it/s]\n"
     ]
    },
    {
     "name": "stdout",
     "output_type": "stream",
     "text": [
      "[18:47:06] Epoch: 4, train loss: 0.32959261536598206, val loss: 0.3697868883609772, val metric: 0.8462671735218112\n"
     ]
    },
    {
     "name": "stderr",
     "output_type": "stream",
     "text": [
      "train (loss=0.308917): 100%|██████████| 452/452 [00:16<00:00, 27.09it/s]\n",
      "val: 100%|██████████| 226/226 [00:04<00:00, 56.09it/s]\n"
     ]
    },
    {
     "name": "stdout",
     "output_type": "stream",
     "text": [
      "[18:47:27] Epoch: 5, train loss: 0.30891695618629456, val loss: 0.36971262097358704, val metric: 0.8471213623277298\n"
     ]
    },
    {
     "name": "stderr",
     "output_type": "stream",
     "text": [
      "train (loss=0.286932): 100%|██████████| 452/452 [00:16<00:00, 27.28it/s]\n",
      "val: 100%|██████████| 226/226 [00:04<00:00, 55.48it/s]\n"
     ]
    },
    {
     "name": "stdout",
     "output_type": "stream",
     "text": [
      "[18:47:47] Epoch: 6, train loss: 0.2869320213794708, val loss: 0.36807379126548767, val metric: 0.8488100077739977\n"
     ]
    },
    {
     "name": "stderr",
     "output_type": "stream",
     "text": [
      "train (loss=0.274045): 100%|██████████| 452/452 [00:16<00:00, 27.45it/s]\n",
      "val: 100%|██████████| 226/226 [00:04<00:00, 54.45it/s]\n"
     ]
    },
    {
     "name": "stdout",
     "output_type": "stream",
     "text": [
      "[18:48:08] Epoch: 7, train loss: 0.27404525876045227, val loss: 0.3700050413608551, val metric: 0.8482349221292671\n"
     ]
    },
    {
     "name": "stderr",
     "output_type": "stream",
     "text": [
      "val: 100%|██████████| 226/226 [00:04<00:00, 52.22it/s]\n"
     ]
    },
    {
     "name": "stdout",
     "output_type": "stream",
     "text": [
      "[18:48:12] Early stopping: val loss: 0.36807379126548767, val metric: 0.8488100077739977\n",
      "[18:48:13] ===== Start working with fold 2 for Lvl_0_Pipe_0_Mod_0_TorchNN =====\n"
     ]
    },
    {
     "name": "stderr",
     "output_type": "stream",
     "text": [
      "train (loss=0.496012): 100%|██████████| 452/452 [00:16<00:00, 27.33it/s]\n",
      "val: 100%|██████████| 226/226 [00:04<00:00, 55.67it/s]\n"
     ]
    },
    {
     "name": "stdout",
     "output_type": "stream",
     "text": [
      "[18:48:40] Epoch: 0, train loss: 0.4960115849971771, val loss: 0.4759852886199951, val metric: 0.795393574373492\n"
     ]
    },
    {
     "name": "stderr",
     "output_type": "stream",
     "text": [
      "train (loss=0.451409): 100%|██████████| 452/452 [00:16<00:00, 26.59it/s]\n",
      "val: 100%|██████████| 226/226 [00:03<00:00, 56.82it/s]\n"
     ]
    },
    {
     "name": "stdout",
     "output_type": "stream",
     "text": [
      "[18:49:01] Epoch: 1, train loss: 0.45140865445137024, val loss: 0.42340365052223206, val metric: 0.8370456747667814\n"
     ]
    },
    {
     "name": "stderr",
     "output_type": "stream",
     "text": [
      "train (loss=0.403056): 100%|██████████| 452/452 [00:16<00:00, 27.86it/s]\n",
      "val: 100%|██████████| 226/226 [00:03<00:00, 57.23it/s]\n"
     ]
    },
    {
     "name": "stdout",
     "output_type": "stream",
     "text": [
      "[18:49:21] Epoch: 2, train loss: 0.40305575728416443, val loss: 0.39118194580078125, val metric: 0.8461077175916251\n"
     ]
    },
    {
     "name": "stderr",
     "output_type": "stream",
     "text": [
      "train (loss=0.365361): 100%|██████████| 452/452 [00:16<00:00, 27.68it/s]\n",
      "val: 100%|██████████| 226/226 [00:04<00:00, 54.20it/s]\n"
     ]
    },
    {
     "name": "stdout",
     "output_type": "stream",
     "text": [
      "[18:49:41] Epoch: 3, train loss: 0.36536067724227905, val loss: 0.37657827138900757, val metric: 0.8520196454695722\n"
     ]
    },
    {
     "name": "stderr",
     "output_type": "stream",
     "text": [
      "train (loss=0.336437): 100%|██████████| 452/452 [00:16<00:00, 27.35it/s]\n",
      "val: 100%|██████████| 226/226 [00:04<00:00, 55.47it/s]\n"
     ]
    },
    {
     "name": "stdout",
     "output_type": "stream",
     "text": [
      "[18:50:02] Epoch: 4, train loss: 0.3364371657371521, val loss: 0.36153361201286316, val metric: 0.8565286987251344\n"
     ]
    },
    {
     "name": "stderr",
     "output_type": "stream",
     "text": [
      "train (loss=0.313182): 100%|██████████| 452/452 [00:16<00:00, 27.26it/s]\n",
      "val: 100%|██████████| 226/226 [00:04<00:00, 55.74it/s]\n"
     ]
    },
    {
     "name": "stdout",
     "output_type": "stream",
     "text": [
      "[18:50:23] Epoch: 5, train loss: 0.3131820559501648, val loss: 0.36288097500801086, val metric: 0.858519132483423\n"
     ]
    },
    {
     "name": "stderr",
     "output_type": "stream",
     "text": [
      "val: 100%|██████████| 226/226 [00:03<00:00, 56.67it/s]\n"
     ]
    },
    {
     "name": "stdout",
     "output_type": "stream",
     "text": [
      "[18:50:27] Early stopping: val loss: 0.36153361201286316, val metric: 0.8565286987251344\n",
      "[18:50:27] Fitting Lvl_0_Pipe_0_Mod_0_TorchNN finished. score = 0.8302490019515232\n",
      "[18:50:27] Lvl_0_Pipe_0_Mod_0_TorchNN fitting and predicting completed\n",
      "[18:50:27] Time left 3173.22 secs\n",
      "\n",
      "[18:50:27] Layer 1 training completed.\n",
      "\n",
      "[18:50:27] Automl preset training completed in 426.79 seconds\n",
      "\n",
      "[18:50:27] Model description:\n",
      "Final prediction for new objects (level 0) = \n",
      "\t 1.00000 * (3 averaged models Lvl_0_Pipe_0_Mod_0_TorchNN) \n",
      "\n"
     ]
    }
   ],
   "source": [
    "roles = {'target': 'IsGood',\n",
    "         'text': ['BankName', 'Message'],\n",
    "         'drop': ['MessageRecognized', 'WER']}\n",
    "\n",
    "task = Task('binary')\n",
    "\n",
    "automl = TabularNLPAutoML(task = task, \n",
    "                          timeout = 3600,\n",
    "                          gpu_ids = '1',\n",
    "                          general_params = {'use_algos': ['nn']},\n",
    "                          nn_params = {'lang': 'ru', 'bert_name': \"cointegrated/rubert-tiny\"},\n",
    "                          )\n",
    "\n",
    "oof_pred = automl.fit_predict(train, roles=roles, verbose=3) \n",
    "not_nan = np.any(~np.isnan(oof_pred.data), axis=1)"
   ]
  },
  {
   "cell_type": "code",
   "execution_count": 14,
   "metadata": {},
   "outputs": [
    {
     "name": "stdout",
     "output_type": "stream",
     "text": [
      "AUC OOF score: 0.8302490019515232\n"
     ]
    }
   ],
   "source": [
    "print('AUC OOF score: {}'.format(roc_auc_score(train[roles['target']].values[not_nan], oof_pred.data[not_nan][:, 0])))"
   ]
  },
  {
   "cell_type": "code",
   "execution_count": 15,
   "metadata": {},
   "outputs": [
    {
     "name": "stderr",
     "output_type": "stream",
     "text": [
      "test: 100%|██████████| 188/188 [00:03<00:00, 54.29it/s]\n",
      "test: 100%|██████████| 188/188 [00:03<00:00, 55.95it/s]\n",
      "test: 100%|██████████| 188/188 [00:03<00:00, 53.48it/s]\n"
     ]
    },
    {
     "name": "stdout",
     "output_type": "stream",
     "text": [
      "AUC TEST score: 0.853947299491854\n",
      "CPU times: user 8.73 s, sys: 3.07 s, total: 11.8 s\n",
      "Wall time: 29.5 s\n"
     ]
    }
   ],
   "source": [
    "%%time \n",
    "\n",
    "test_pred = automl.predict(test)\n",
    "print('AUC TEST score: {}'.format(roc_auc_score(test[roles['target']].values, test_pred.data[:, 0])))"
   ]
  },
  {
   "cell_type": "code",
   "execution_count": 16,
   "metadata": {},
   "outputs": [
    {
     "name": "stdout",
     "output_type": "stream",
     "text": [
      "F1 TEST score: 0.5964912280701753\n"
     ]
    }
   ],
   "source": [
    "print('F1 TEST score: {}'.format(f1_score(test[roles['target']].values, test_pred.data[:, 0] > 0.5)))"
   ]
  },
  {
   "cell_type": "markdown",
   "metadata": {},
   "source": [
    "## На распознанной речи"
   ]
  },
  {
   "cell_type": "code",
   "execution_count": 17,
   "metadata": {
    "scrolled": true
   },
   "outputs": [
    {
     "name": "stdout",
     "output_type": "stream",
     "text": [
      "[18:51:57] Stdout logging level is INFO3.\n",
      "[18:51:57] Model language mode: ru\n",
      "[18:51:57] Task: binary\n",
      "\n",
      "[18:51:57] Start automl preset with listed constraints:\n",
      "[18:51:57] - time: 3600.00 seconds\n",
      "[18:51:57] - CPU: 4 cores\n",
      "[18:51:57] - memory: 16 GB\n",
      "\n",
      "[18:51:57] Train data shape: (10842, 6)\n",
      "\n",
      "[18:51:57] Feats was rejected during automatic roles guess: []\n",
      "[18:51:57] Layer 1 train process start. Time left 3599.94 secs\n",
      "[18:51:57] Start fitting Lvl_0_Pipe_0_Mod_0_TorchNN ...\n",
      "[18:51:57] ===== Start working with fold 0 for Lvl_0_Pipe_0_Mod_0_TorchNN =====\n"
     ]
    },
    {
     "name": "stderr",
     "output_type": "stream",
     "text": [
      "train (loss=0.498705): 100%|██████████| 452/452 [00:16<00:00, 27.09it/s]\n",
      "val: 100%|██████████| 226/226 [00:03<00:00, 56.66it/s]\n"
     ]
    },
    {
     "name": "stdout",
     "output_type": "stream",
     "text": [
      "[18:52:24] Epoch: 0, train loss: 0.49870461225509644, val loss: 0.4847054183483124, val metric: 0.747906369685688\n"
     ]
    },
    {
     "name": "stderr",
     "output_type": "stream",
     "text": [
      "train (loss=0.460623): 100%|██████████| 452/452 [00:16<00:00, 26.99it/s]\n",
      "val: 100%|██████████| 226/226 [00:03<00:00, 57.01it/s]\n"
     ]
    },
    {
     "name": "stdout",
     "output_type": "stream",
     "text": [
      "[18:52:45] Epoch: 1, train loss: 0.46062275767326355, val loss: 0.4456520974636078, val metric: 0.8081030256779663\n"
     ]
    },
    {
     "name": "stderr",
     "output_type": "stream",
     "text": [
      "train (loss=0.417553): 100%|██████████| 452/452 [00:16<00:00, 27.38it/s]\n",
      "val: 100%|██████████| 226/226 [00:04<00:00, 54.97it/s]\n"
     ]
    },
    {
     "name": "stdout",
     "output_type": "stream",
     "text": [
      "[18:53:06] Epoch: 2, train loss: 0.41755253076553345, val loss: 0.42274561524391174, val metric: 0.8198978682129077\n"
     ]
    },
    {
     "name": "stderr",
     "output_type": "stream",
     "text": [
      "train (loss=0.384131): 100%|██████████| 452/452 [00:16<00:00, 27.63it/s]\n",
      "val: 100%|██████████| 226/226 [00:03<00:00, 56.55it/s]\n"
     ]
    },
    {
     "name": "stdout",
     "output_type": "stream",
     "text": [
      "[18:53:26] Epoch: 3, train loss: 0.3841308057308197, val loss: 0.3973582983016968, val metric: 0.8298459702400905\n"
     ]
    },
    {
     "name": "stderr",
     "output_type": "stream",
     "text": [
      "train (loss=0.356583): 100%|██████████| 452/452 [00:16<00:00, 27.74it/s]\n",
      "val: 100%|██████████| 226/226 [00:03<00:00, 56.58it/s]\n"
     ]
    },
    {
     "name": "stdout",
     "output_type": "stream",
     "text": [
      "[18:53:46] Epoch: 4, train loss: 0.3565826117992401, val loss: 0.39011403918266296, val metric: 0.8328747387865432\n"
     ]
    },
    {
     "name": "stderr",
     "output_type": "stream",
     "text": [
      "train (loss=0.335527): 100%|██████████| 452/452 [00:16<00:00, 27.91it/s]\n",
      "val: 100%|██████████| 226/226 [00:04<00:00, 55.87it/s]\n"
     ]
    },
    {
     "name": "stdout",
     "output_type": "stream",
     "text": [
      "[18:54:07] Epoch: 5, train loss: 0.3355269432067871, val loss: 0.38823410868644714, val metric: 0.8351213528182525\n"
     ]
    },
    {
     "name": "stderr",
     "output_type": "stream",
     "text": [
      "train (loss=0.316428): 100%|██████████| 452/452 [00:16<00:00, 27.77it/s]\n",
      "val: 100%|██████████| 226/226 [00:04<00:00, 55.55it/s]\n"
     ]
    },
    {
     "name": "stdout",
     "output_type": "stream",
     "text": [
      "[18:54:27] Epoch: 6, train loss: 0.3164283037185669, val loss: 0.39584317803382874, val metric: 0.8381567779988732\n"
     ]
    },
    {
     "name": "stderr",
     "output_type": "stream",
     "text": [
      "val: 100%|██████████| 226/226 [00:03<00:00, 56.55it/s]\n"
     ]
    },
    {
     "name": "stdout",
     "output_type": "stream",
     "text": [
      "[18:54:31] Early stopping: val loss: 0.38823410868644714, val metric: 0.8351213528182525\n",
      "[18:54:31] ===== Start working with fold 1 for Lvl_0_Pipe_0_Mod_0_TorchNN =====\n"
     ]
    },
    {
     "name": "stderr",
     "output_type": "stream",
     "text": [
      "train (loss=0.498233): 100%|██████████| 452/452 [00:16<00:00, 27.58it/s]\n",
      "val: 100%|██████████| 226/226 [00:03<00:00, 57.33it/s]\n"
     ]
    },
    {
     "name": "stdout",
     "output_type": "stream",
     "text": [
      "[18:54:58] Epoch: 0, train loss: 0.4982333481311798, val loss: 0.48362448811531067, val metric: 0.7597746729334122\n"
     ]
    },
    {
     "name": "stderr",
     "output_type": "stream",
     "text": [
      "train (loss=0.459669): 100%|██████████| 452/452 [00:16<00:00, 27.50it/s]\n",
      "val: 100%|██████████| 226/226 [00:03<00:00, 56.71it/s]\n"
     ]
    },
    {
     "name": "stdout",
     "output_type": "stream",
     "text": [
      "[18:55:18] Epoch: 1, train loss: 0.45966869592666626, val loss: 0.43853166699409485, val metric: 0.805264208942237\n"
     ]
    },
    {
     "name": "stderr",
     "output_type": "stream",
     "text": [
      "train (loss=0.415313): 100%|██████████| 452/452 [00:16<00:00, 27.91it/s]\n",
      "val: 100%|██████████| 226/226 [00:04<00:00, 55.73it/s]\n"
     ]
    },
    {
     "name": "stdout",
     "output_type": "stream",
     "text": [
      "[18:55:38] Epoch: 2, train loss: 0.4153134524822235, val loss: 0.41498085856437683, val metric: 0.8149130001687932\n"
     ]
    },
    {
     "name": "stderr",
     "output_type": "stream",
     "text": [
      "train (loss=0.382053): 100%|██████████| 452/452 [00:16<00:00, 27.52it/s]\n",
      "val: 100%|██████████| 226/226 [00:04<00:00, 56.20it/s]\n"
     ]
    },
    {
     "name": "stdout",
     "output_type": "stream",
     "text": [
      "[18:55:59] Epoch: 3, train loss: 0.3820529282093048, val loss: 0.3981124758720398, val metric: 0.8242710391243674\n"
     ]
    },
    {
     "name": "stderr",
     "output_type": "stream",
     "text": [
      "train (loss=0.353649): 100%|██████████| 452/452 [00:16<00:00, 27.51it/s]\n",
      "val: 100%|██████████| 226/226 [00:04<00:00, 56.48it/s]\n"
     ]
    },
    {
     "name": "stdout",
     "output_type": "stream",
     "text": [
      "[18:56:19] Epoch: 4, train loss: 0.35364943742752075, val loss: 0.3902009129524231, val metric: 0.8271961543673464\n"
     ]
    },
    {
     "name": "stderr",
     "output_type": "stream",
     "text": [
      "train (loss=0.329393): 100%|██████████| 452/452 [00:16<00:00, 27.74it/s]\n",
      "val: 100%|██████████| 226/226 [00:04<00:00, 56.05it/s]\n"
     ]
    },
    {
     "name": "stdout",
     "output_type": "stream",
     "text": [
      "[18:56:40] Epoch: 5, train loss: 0.3293929994106293, val loss: 0.38781508803367615, val metric: 0.8290186457077785\n"
     ]
    },
    {
     "name": "stderr",
     "output_type": "stream",
     "text": [
      "train (loss=0.312628): 100%|██████████| 452/452 [00:16<00:00, 28.17it/s]\n",
      "val: 100%|██████████| 226/226 [00:04<00:00, 56.43it/s]\n"
     ]
    },
    {
     "name": "stdout",
     "output_type": "stream",
     "text": [
      "[18:57:00] Epoch: 6, train loss: 0.31262773275375366, val loss: 0.3923310935497284, val metric: 0.8309695149928799\n"
     ]
    },
    {
     "name": "stderr",
     "output_type": "stream",
     "text": [
      "val: 100%|██████████| 226/226 [00:03<00:00, 56.82it/s]\n"
     ]
    },
    {
     "name": "stdout",
     "output_type": "stream",
     "text": [
      "[18:57:04] Early stopping: val loss: 0.38781508803367615, val metric: 0.8290186457077785\n",
      "[18:57:04] ===== Start working with fold 2 for Lvl_0_Pipe_0_Mod_0_TorchNN =====\n"
     ]
    },
    {
     "name": "stderr",
     "output_type": "stream",
     "text": [
      "train (loss=0.498106): 100%|██████████| 452/452 [00:16<00:00, 27.55it/s]\n",
      "val: 100%|██████████| 226/226 [00:04<00:00, 56.47it/s]\n"
     ]
    },
    {
     "name": "stdout",
     "output_type": "stream",
     "text": [
      "[18:57:31] Epoch: 0, train loss: 0.4981057643890381, val loss: 0.4838826060295105, val metric: 0.7643985237398591\n"
     ]
    },
    {
     "name": "stderr",
     "output_type": "stream",
     "text": [
      "train (loss=0.461183): 100%|██████████| 452/452 [00:16<00:00, 27.66it/s]\n",
      "val: 100%|██████████| 226/226 [00:04<00:00, 56.41it/s]\n"
     ]
    },
    {
     "name": "stdout",
     "output_type": "stream",
     "text": [
      "[18:57:52] Epoch: 1, train loss: 0.4611825942993164, val loss: 0.4347986578941345, val metric: 0.8159792810594114\n"
     ]
    },
    {
     "name": "stderr",
     "output_type": "stream",
     "text": [
      "train (loss=0.415961): 100%|██████████| 452/452 [00:16<00:00, 27.52it/s]\n",
      "val: 100%|██████████| 226/226 [00:04<00:00, 55.94it/s]\n"
     ]
    },
    {
     "name": "stdout",
     "output_type": "stream",
     "text": [
      "[18:58:12] Epoch: 2, train loss: 0.4159608781337738, val loss: 0.40527674555778503, val metric: 0.8255051488609808\n"
     ]
    },
    {
     "name": "stderr",
     "output_type": "stream",
     "text": [
      "train (loss=0.381742): 100%|██████████| 452/452 [00:16<00:00, 27.85it/s]\n",
      "val: 100%|██████████| 226/226 [00:04<00:00, 55.29it/s]\n"
     ]
    },
    {
     "name": "stdout",
     "output_type": "stream",
     "text": [
      "[18:58:32] Epoch: 3, train loss: 0.38174155354499817, val loss: 0.40635257959365845, val metric: 0.8299441415081792\n"
     ]
    },
    {
     "name": "stderr",
     "output_type": "stream",
     "text": [
      "val: 100%|██████████| 226/226 [00:04<00:00, 56.46it/s]\n"
     ]
    },
    {
     "name": "stdout",
     "output_type": "stream",
     "text": [
      "[18:58:36] Early stopping: val loss: 0.40527674555778503, val metric: 0.8255051488609808\n",
      "[18:58:37] Fitting Lvl_0_Pipe_0_Mod_0_TorchNN finished. score = 0.8064579197243278\n",
      "[18:58:37] Lvl_0_Pipe_0_Mod_0_TorchNN fitting and predicting completed\n",
      "[18:58:37] Time left 3200.29 secs\n",
      "\n",
      "[18:58:37] Layer 1 training completed.\n",
      "\n",
      "[18:58:37] Automl preset training completed in 399.71 seconds\n",
      "\n",
      "[18:58:37] Model description:\n",
      "Final prediction for new objects (level 0) = \n",
      "\t 1.00000 * (3 averaged models Lvl_0_Pipe_0_Mod_0_TorchNN) \n",
      "\n"
     ]
    }
   ],
   "source": [
    "roles = {'target': 'IsGood',\n",
    "         'text': ['BankName', 'MessageRecognized'],\n",
    "         'drop': ['Message', 'WER']}\n",
    "\n",
    "task = Task('binary')\n",
    "\n",
    "automl = TabularNLPAutoML(task = task, \n",
    "                          timeout = 3600,\n",
    "                          gpu_ids = '1',\n",
    "                          general_params = {'use_algos': ['nn']},\n",
    "                          nn_params = {'lang': 'ru', 'bert_name': \"cointegrated/rubert-tiny\"},\n",
    "                          )\n",
    "\n",
    "oof_pred = automl.fit_predict(train, roles=roles, verbose=3) \n",
    "not_nan = np.any(~np.isnan(oof_pred.data), axis=1)"
   ]
  },
  {
   "cell_type": "code",
   "execution_count": 18,
   "metadata": {},
   "outputs": [
    {
     "name": "stdout",
     "output_type": "stream",
     "text": [
      "AUC OOF score: 0.8064579197243278\n"
     ]
    }
   ],
   "source": [
    "print('AUC OOF score: {}'.format(roc_auc_score(train[roles['target']].values[not_nan], oof_pred.data[not_nan][:, 0])))"
   ]
  },
  {
   "cell_type": "code",
   "execution_count": 19,
   "metadata": {},
   "outputs": [
    {
     "name": "stderr",
     "output_type": "stream",
     "text": [
      "test: 100%|██████████| 188/188 [00:03<00:00, 53.32it/s]\n",
      "test: 100%|██████████| 188/188 [00:03<00:00, 55.93it/s]\n",
      "test: 100%|██████████| 188/188 [00:03<00:00, 55.57it/s]\n"
     ]
    },
    {
     "name": "stdout",
     "output_type": "stream",
     "text": [
      "AUC TEST score: 0.8327002186434183\n",
      "CPU times: user 8.88 s, sys: 3 s, total: 11.9 s\n",
      "Wall time: 29.1 s\n"
     ]
    }
   ],
   "source": [
    "%%time \n",
    "\n",
    "test_pred = automl.predict(test)\n",
    "print('AUC TEST score: {}'.format(roc_auc_score(test[roles['target']].values, test_pred.data[:, 0])))"
   ]
  },
  {
   "cell_type": "code",
   "execution_count": 20,
   "metadata": {},
   "outputs": [
    {
     "name": "stdout",
     "output_type": "stream",
     "text": [
      "F1 TEST score: 0.5728250244379277\n"
     ]
    }
   ],
   "source": [
    "print('F1 TEST score: {}'.format(f1_score(test[roles['target']].values, test_pred.data[:, 0] > 0.5)))"
   ]
  },
  {
   "cell_type": "code",
   "execution_count": null,
   "metadata": {},
   "outputs": [],
   "source": []
  }
 ],
 "metadata": {
  "kernelspec": {
   "display_name": "Python 3",
   "language": "python",
   "name": "python3"
  },
  "language_info": {
   "codemirror_mode": {
    "name": "ipython",
    "version": 3
   },
   "file_extension": ".py",
   "mimetype": "text/x-python",
   "name": "python",
   "nbconvert_exporter": "python",
   "pygments_lexer": "ipython3",
   "version": "3.7.6"
  }
 },
 "nbformat": 4,
 "nbformat_minor": 5
}
